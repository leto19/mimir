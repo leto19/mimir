{
 "cells": [
  {
   "cell_type": "code",
   "execution_count": 1,
   "metadata": {},
   "outputs": [],
   "source": [
    "#If having problems with MIMIR_DIR, uncomment and run this:\n",
    "#os.environ[\"MIMIR_DIR\"] = \".\""
   ]
  },
  {
   "cell_type": "code",
   "execution_count": 2,
   "metadata": {},
   "outputs": [],
   "source": [
    "import os \n",
    "import os.path as op\n",
    "mimir_dir = os.environ[\"MIMIR_DIR\"]"
   ]
  },
  {
   "cell_type": "code",
   "execution_count": 3,
   "metadata": {},
   "outputs": [],
   "source": [
    "import pandas as pd\n",
    "import time\n",
    "import datetime\n",
    "from qa.question_answering.neural_models_utils import *\n",
    "DATA_DIR    = op.join(mimir_dir,\"data\")\n",
    "MODELS_DIR  = op.join(mimir_dir, \"models/qa/question_answering/models\")"
   ]
  },
  {
   "cell_type": "code",
   "execution_count": 4,
   "metadata": {},
   "outputs": [],
   "source": [
    "#Load all data\n",
    "qaps = pd.read_csv(op.join(DATA_DIR,'narrativeqa_qaps_single_answer.csv'))\n",
    "#Remove data where the answer is not an exact span of the text\n",
    "qaps = qaps[qaps['ans_start']!=-1]"
   ]
  },
  {
   "cell_type": "code",
   "execution_count": 5,
   "metadata": {},
   "outputs": [],
   "source": [
    "train_contexts, train_questions, train_answers  = format_data(qaps[qaps['set']=='train'])\n",
    "val_contexts, val_questions, val_answers        = format_data(qaps[qaps['set']=='valid'])"
   ]
  },
  {
   "cell_type": "code",
   "execution_count": 5,
   "metadata": {},
   "outputs": [],
   "source": [
    "add_end_idx(train_answers, train_contexts)\n",
    "add_end_idx(val_answers, val_contexts)"
   ]
  },
  {
   "cell_type": "code",
   "execution_count": 6,
   "metadata": {},
   "outputs": [
    {
     "data": {
      "application/vnd.jupyter.widget-view+json": {
       "model_id": "e4a02a94a0fc4671bf80a10ec1bf95b3",
       "version_major": 2,
       "version_minor": 0
      },
      "text/plain": [
       "Downloading:   0%|          | 0.00/466k [00:00<?, ?B/s]"
      ]
     },
     "metadata": {},
     "output_type": "display_data"
    }
   ],
   "source": [
    "from transformers import BertForQuestionAnswering, BertTokenizer, DistilBertTokenizerFast, DistilBertForQuestionAnswering\n",
    "model_id = 'distilbert-base-uncased-distilled-squad'\n",
    "#model_id = 'bert-large-uncased-whole-word-masking-finetuned-squad'\n",
    "tokenizer = DistilBertTokenizerFast.from_pretrained(model_id)\n",
    "train_encodings = tokenizer(train_questions, train_contexts, truncation='only_second', padding='max_length')\n",
    "val_encodings = tokenizer(val_questions, val_contexts, truncation='only_second', padding='max_length')"
   ]
  },
  {
   "cell_type": "code",
   "execution_count": null,
   "metadata": {},
   "outputs": [],
   "source": []
  }
 ],
 "metadata": {
  "kernelspec": {
   "display_name": "Python 3",
   "language": "python",
   "name": "python3"
  },
  "language_info": {
   "codemirror_mode": {
    "name": "ipython",
    "version": 3
   },
   "file_extension": ".py",
   "mimetype": "text/x-python",
   "name": "python",
   "nbconvert_exporter": "python",
   "pygments_lexer": "ipython3",
   "version": "3.6.9"
  }
 },
 "nbformat": 4,
 "nbformat_minor": 4
}
