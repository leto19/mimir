{
 "cells": [
  {
   "cell_type": "markdown",
   "metadata": {},
   "source": [
    "# Question Classification\n",
    "\n",
    "**Aim**: Establish baseline(s) and subsequent models for question classification using the Trec(6) dataset."
   ]
  },
  {
   "cell_type": "code",
   "execution_count": 85,
   "metadata": {},
   "outputs": [],
   "source": [
    "'''\n",
    "Imports\n",
    "'''\n",
    "\n",
    "import os, re, string, sys\n",
    "import nltk\n",
    "from nltk.tokenize import word_tokenize \n",
    "from sklearn.metrics import confusion_matrix, ConfusionMatrixDisplay\n",
    "\n",
    "#import nlu"
   ]
  },
  {
   "cell_type": "markdown",
   "metadata": {},
   "source": [
    "***"
   ]
  },
  {
   "cell_type": "code",
   "execution_count": 112,
   "metadata": {},
   "outputs": [
    {
     "name": "stdout",
     "output_type": "stream",
     "text": [
      "Classes:  ['ABBR', 'NUM', 'LOC', 'DESC', 'ENTY', 'HUM']\n",
      "Classes counts:\n",
      "- ABBR: 86\n",
      "- NUM: 896\n",
      "- LOC: 835\n",
      "- DESC: 1162\n",
      "- ENTY: 1250\n",
      "- HUM: 1223\n"
     ]
    }
   ],
   "source": [
    "'''\n",
    "Load/parse dataset\n",
    "'''\n",
    "\n",
    "xtrain = []\n",
    "ytrain =[]\n",
    "xtest = []\n",
    "ytest = []    \n",
    "\n",
    "# Train\n",
    "with open(\"../../data/question_classification/trec_train.txt\", 'rb') as f:\n",
    "    questions = [x.decode('utf8').strip() for x in f.readlines()]\n",
    "    for q in questions:\n",
    "        splt = q.replace(\"\\n\", \"\").split(\":\")\n",
    "        ytrain.append(splt[0])\n",
    "        xtrain.append(\" \".join(splt[1].split(\" \")[1:]))\n",
    "        \n",
    "# Test\n",
    "with open(\"../../data/question_classification/trec_test.txt\", 'rb') as f:\n",
    "    questions = [x.decode('utf8').strip() for x in f.readlines()]\n",
    "    for q in questions:\n",
    "        splt = q.replace(\"\\n\", \"\").split(\":\")\n",
    "        ytest.append(splt[0])\n",
    "        xtest.append(\" \".join(splt[1].split(\" \")[1:]))\n",
    "        \n",
    "classes = dict(enumerate(list(set(ytrain))))\n",
    "reverse_classes = {v: k for k, v in classes.items()}\n",
    "\n",
    "print(\"Classes: \", list(reverse_classes.keys()))\n",
    "print(\"Classes counts:\")\n",
    "for cls in list(reverse_classes.keys()):\n",
    "    print(\"- {}: {}\".format(cls, len([x for x in ytrain if x == cls])))"
   ]
  },
  {
   "cell_type": "code",
   "execution_count": 72,
   "metadata": {},
   "outputs": [
    {
     "name": "stdout",
     "output_type": "stream",
     "text": [
      "Training instances:  5452\n",
      "Testing instances:  500\n",
      "\n",
      "Training examples:\n",
      "['How did serfdom develop in and then leave Russia', 'What films featured the character Popeye Doyle', 'How can I find a list of celebrities real names', 'What fowl grabs the spotlight after the Chinese Year of the Monkey', 'What is the full form of com']\n"
     ]
    }
   ],
   "source": [
    "'''\n",
    "Preprocess data\n",
    "'''\n",
    "\n",
    "def preprocess_text(data):\n",
    "    # Remove punctuation\n",
    "    exclude = set(string.punctuation)\n",
    "    data = [''.join(ch for ch in x if ch not in exclude).strip() for x in data]\n",
    "    \n",
    "    # Remove multi-spaces\n",
    "    data = [re.sub(' +', ' ', x) for x in data]\n",
    "    return data\n",
    "\n",
    "xtrain = preprocess_text(xtrain)\n",
    "xtest = preprocess_text(xtest)\n",
    "\n",
    "print(\"Training instances: \", len(xtrain))\n",
    "print(\"Testing instances: \", len(xtest))\n",
    "print(\"\\nTraining examples:\")\n",
    "print(xtrain[:5])"
   ]
  },
  {
   "cell_type": "markdown",
   "metadata": {},
   "source": [
    "***"
   ]
  },
  {
   "cell_type": "code",
   "execution_count": 118,
   "metadata": {},
   "outputs": [],
   "source": [
    "'''\n",
    "Util functions\n",
    "'''\n",
    "\n",
    "def plot_confusion_matrix(test_predictions):\n",
    "    cm = confusion_matrix(ytest, test_predictions)\n",
    "    disp = ConfusionMatrixDisplay(confusion_matrix=cm, display_labels=list(classes.values())[::-1])\n",
    "    disp.plot(xticks_rotation='vertical')"
   ]
  },
  {
   "cell_type": "markdown",
   "metadata": {},
   "source": [
    "***\n",
    "\n",
    "## Baseline 1 - Question words\n",
    "\n",
    "Create and test a simple baseline that makes use of question words to classify questions into one of the 6 question classes."
   ]
  },
  {
   "cell_type": "code",
   "execution_count": 93,
   "metadata": {},
   "outputs": [],
   "source": [
    "'''\n",
    "Establish baseline 1\n",
    "'''\n",
    "        \n",
    "def get_named_entities(tokens):\n",
    "    entities = nltk.chunk.ne_chunk(nltk.pos_tag(tokens))\n",
    "    return entities\n",
    "\n",
    "# Jonathan's baseline adapted\n",
    "class SimpleBaseline:\n",
    "    def __init__(self):\n",
    "        self.categories = classes.keys()\n",
    "                            \n",
    "    def classify_question(self, question):\n",
    "        question_tokens = word_tokenize(question) \n",
    "        words_and_labels = get_named_entities(question_tokens)\n",
    "        entities = [ne for ne in words_and_labels if isinstance(ne, nltk.tree.Tree)]\n",
    "\n",
    "        labels = [e.label() for e in entities]\n",
    "\n",
    "        who_condition = \"who\" in [t.lower() for t in question_tokens]\n",
    "        whose_condition = \"whose\" in [t.lower() for t in question_tokens]\n",
    "        what_condition = \"what\" in [t.lower() for t in question_tokens]\n",
    "        where_condition = \"where\" in [t.lower() for t in question_tokens]\n",
    "        when_condition = \"when\" in [t.lower() for t in question_tokens]\n",
    "        why_condition = \"why\" in [t.lower() for t in question_tokens]\n",
    "        how_condition = \"how\" in [t.lower() for t in question_tokens]\n",
    "        \n",
    "        named_person_condition = \"PERSON\" in labels\n",
    "\n",
    "        if who_condition and not named_person_condition:\n",
    "            return(\"HUM\") #We want a person's name\n",
    "        \n",
    "        if who_condition and named_person_condition:\n",
    "            return(\"DESC\") #We want a description\n",
    "\n",
    "        if where_condition:\n",
    "            return(\"LOC\") #Location\n",
    "        \n",
    "        if [t.lower() for t in question_tokens[:2]] == [\"how\", \"many\"]:\n",
    "            return(\"NUM\") #Number\n",
    "        else:\n",
    "            return(\"ENTY\")"
   ]
  },
  {
   "cell_type": "code",
   "execution_count": 95,
   "metadata": {},
   "outputs": [
    {
     "name": "stdout",
     "output_type": "stream",
     "text": [
      "----------------------------------------\n",
      "Total accuracy of the model: 33%\n",
      "----------------------------------------\n",
      "Accuracy of  ABBR :  0%\n",
      "Accuracy of   NUM :  6%\n",
      "Accuracy of   LOC : 33%\n",
      "Accuracy of  DESC :  0%\n",
      "Accuracy of  ENTY : 100%\n",
      "Accuracy of   HUM : 63%\n",
      "----------------------------------------\n"
     ]
    }
   ],
   "source": [
    "'''\n",
    "Test baseline 1 (does not need training)\n",
    "'''\n",
    "\n",
    "SB = SimpleBaseline()\n",
    "\n",
    "cls_correct = list(0. for i in range(len(classes)))\n",
    "cls_total = list(0. for i in range(len(classes)))\n",
    "correct = 0\n",
    "total = 0\n",
    "predictions = []\n",
    "\n",
    "for (i, q) in enumerate(xtest):\n",
    "    pred_cls = SB.classify_question(q)\n",
    "    true_cls = ytest[i]\n",
    "    \n",
    "    if pred_cls == true_cls:\n",
    "        cls_correct[reverse_classes[true_cls]] += 1\n",
    "        correct += 1\n",
    "    \n",
    "    predictions.append(pred_cls)\n",
    "    cls_total[reverse_classes[true_cls]] += 1\n",
    "    total += 1\n",
    "    \n",
    "accuracy = (100 * correct / total)\n",
    "print(\"-\"*40)\n",
    "print('Total accuracy of the model: %d%%' % accuracy)\n",
    "print(\"-\"*40)\n",
    "for i in range(len(classes)):\n",
    "    print('Accuracy of %5s : %2d%%' % (classes[i], 100 * cls_correct[i] / cls_total[i]))\n",
    "print(\"-\"*40)"
   ]
  },
  {
   "cell_type": "code",
   "execution_count": 123,
   "metadata": {},
   "outputs": [
    {
     "name": "stdout",
     "output_type": "stream",
     "text": [
      "NUM\n",
      "6\n"
     ]
    }
   ],
   "source": [
    "i = 1\n",
    "print(classes[i])\n",
    "print(len([x for x in predictions if x == classes[3]]))"
   ]
  },
  {
   "cell_type": "code",
   "execution_count": 119,
   "metadata": {},
   "outputs": [
    {
     "data": {
      "image/png": "[encoded data removed]",
      "text/plain": [
       "<Figure size 432x288 with 2 Axes>"
      ]
     },
     "metadata": {
      "needs_background": "light"
     },
     "output_type": "display_data"
    }
   ],
   "source": [
    "plot_confusion_matrix(predictions) # This is currently wrong"
   ]
  }
 ],
 "metadata": {
  "kernelspec": {
   "display_name": "Python 3",
   "language": "python",
   "name": "python3"
  },
  "language_info": {
   "codemirror_mode": {
    "name": "ipython",
    "version": 3
   },
   "file_extension": ".py",
   "mimetype": "text/x-python",
   "name": "python",
   "nbconvert_exporter": "python",
   "pygments_lexer": "ipython3",
   "version": "3.8.3"
  }
 },
 "nbformat": 4,
 "nbformat_minor": 4
}
