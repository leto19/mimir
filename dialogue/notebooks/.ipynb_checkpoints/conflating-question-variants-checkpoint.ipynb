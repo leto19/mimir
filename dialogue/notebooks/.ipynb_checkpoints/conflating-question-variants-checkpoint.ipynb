{
 "cells": [
  {
   "cell_type": "code",
   "execution_count": 1,
   "metadata": {},
   "outputs": [
    {
     "name": "stdout",
     "output_type": "stream",
     "text": [
      "Requirement already satisfied: sentence_transformers in /home/tomasg/anaconda3/lib/python3.8/site-packages (0.3.8)\n",
      "Requirement already satisfied: tqdm in /home/tomasg/anaconda3/lib/python3.8/site-packages (from sentence_transformers) (4.47.0)\n",
      "Requirement already satisfied: scikit-learn in /home/tomasg/anaconda3/lib/python3.8/site-packages (from sentence_transformers) (0.23.1)\n",
      "Requirement already satisfied: transformers<3.4.0,>=3.1.0 in /home/tomasg/anaconda3/lib/python3.8/site-packages (from sentence_transformers) (3.3.1)\n",
      "Requirement already satisfied: nltk in /home/tomasg/anaconda3/lib/python3.8/site-packages (from sentence_transformers) (3.5)\n",
      "Requirement already satisfied: numpy in /home/tomasg/anaconda3/lib/python3.8/site-packages (from sentence_transformers) (1.18.5)\n",
      "Requirement already satisfied: scipy in /home/tomasg/anaconda3/lib/python3.8/site-packages (from sentence_transformers) (1.5.0)\n",
      "Requirement already satisfied: torch>=1.2.0 in /home/tomasg/anaconda3/lib/python3.8/site-packages (from sentence_transformers) (1.6.0)\n",
      "Requirement already satisfied: threadpoolctl>=2.0.0 in /home/tomasg/anaconda3/lib/python3.8/site-packages (from scikit-learn->sentence_transformers) (2.1.0)\n",
      "Requirement already satisfied: joblib>=0.11 in /home/tomasg/anaconda3/lib/python3.8/site-packages (from scikit-learn->sentence_transformers) (0.16.0)\n",
      "Requirement already satisfied: requests in /home/tomasg/anaconda3/lib/python3.8/site-packages (from transformers<3.4.0,>=3.1.0->sentence_transformers) (2.24.0)\n",
      "Requirement already satisfied: sacremoses in /home/tomasg/anaconda3/lib/python3.8/site-packages (from transformers<3.4.0,>=3.1.0->sentence_transformers) (0.0.43)\n",
      "Requirement already satisfied: regex!=2019.12.17 in /home/tomasg/anaconda3/lib/python3.8/site-packages (from transformers<3.4.0,>=3.1.0->sentence_transformers) (2020.6.8)\n",
      "Requirement already satisfied: sentencepiece!=0.1.92 in /home/tomasg/anaconda3/lib/python3.8/site-packages (from transformers<3.4.0,>=3.1.0->sentence_transformers) (0.1.91)\n",
      "Requirement already satisfied: filelock in /home/tomasg/anaconda3/lib/python3.8/site-packages (from transformers<3.4.0,>=3.1.0->sentence_transformers) (3.0.12)\n",
      "Requirement already satisfied: packaging in /home/tomasg/anaconda3/lib/python3.8/site-packages (from transformers<3.4.0,>=3.1.0->sentence_transformers) (20.4)\n",
      "Requirement already satisfied: tokenizers==0.8.1.rc2 in /home/tomasg/anaconda3/lib/python3.8/site-packages (from transformers<3.4.0,>=3.1.0->sentence_transformers) (0.8.1rc2)\n",
      "Requirement already satisfied: click in /home/tomasg/anaconda3/lib/python3.8/site-packages (from nltk->sentence_transformers) (7.1.2)\n",
      "Requirement already satisfied: future in /home/tomasg/anaconda3/lib/python3.8/site-packages (from torch>=1.2.0->sentence_transformers) (0.18.2)\n",
      "Requirement already satisfied: certifi>=2017.4.17 in /home/tomasg/anaconda3/lib/python3.8/site-packages (from requests->transformers<3.4.0,>=3.1.0->sentence_transformers) (2020.6.20)\n",
      "Requirement already satisfied: idna<3,>=2.5 in /home/tomasg/anaconda3/lib/python3.8/site-packages (from requests->transformers<3.4.0,>=3.1.0->sentence_transformers) (2.10)\n",
      "Requirement already satisfied: urllib3!=1.25.0,!=1.25.1,<1.26,>=1.21.1 in /home/tomasg/anaconda3/lib/python3.8/site-packages (from requests->transformers<3.4.0,>=3.1.0->sentence_transformers) (1.25.9)\n",
      "Requirement already satisfied: chardet<4,>=3.0.2 in /home/tomasg/anaconda3/lib/python3.8/site-packages (from requests->transformers<3.4.0,>=3.1.0->sentence_transformers) (3.0.4)\n",
      "Requirement already satisfied: six in /home/tomasg/anaconda3/lib/python3.8/site-packages (from sacremoses->transformers<3.4.0,>=3.1.0->sentence_transformers) (1.15.0)\n",
      "Requirement already satisfied: pyparsing>=2.0.2 in /home/tomasg/anaconda3/lib/python3.8/site-packages (from packaging->transformers<3.4.0,>=3.1.0->sentence_transformers) (2.4.7)\n",
      "Requirement already satisfied: gensim in /home/tomasg/anaconda3/lib/python3.8/site-packages (3.8.3)\n",
      "Requirement already satisfied: smart-open>=1.8.1 in /home/tomasg/anaconda3/lib/python3.8/site-packages (from gensim) (3.0.0)\n",
      "Requirement already satisfied: six>=1.5.0 in /home/tomasg/anaconda3/lib/python3.8/site-packages (from gensim) (1.15.0)\n",
      "Requirement already satisfied: numpy>=1.11.3 in /home/tomasg/anaconda3/lib/python3.8/site-packages (from gensim) (1.18.5)\n",
      "Requirement already satisfied: scipy>=0.18.1 in /home/tomasg/anaconda3/lib/python3.8/site-packages (from gensim) (1.5.0)\n",
      "Requirement already satisfied: requests in /home/tomasg/anaconda3/lib/python3.8/site-packages (from smart-open>=1.8.1->gensim) (2.24.0)\n",
      "Requirement already satisfied: chardet<4,>=3.0.2 in /home/tomasg/anaconda3/lib/python3.8/site-packages (from requests->smart-open>=1.8.1->gensim) (3.0.4)\n",
      "Requirement already satisfied: certifi>=2017.4.17 in /home/tomasg/anaconda3/lib/python3.8/site-packages (from requests->smart-open>=1.8.1->gensim) (2020.6.20)\n",
      "Requirement already satisfied: urllib3!=1.25.0,!=1.25.1,<1.26,>=1.21.1 in /home/tomasg/anaconda3/lib/python3.8/site-packages (from requests->smart-open>=1.8.1->gensim) (1.25.9)\n",
      "Requirement already satisfied: idna<3,>=2.5 in /home/tomasg/anaconda3/lib/python3.8/site-packages (from requests->smart-open>=1.8.1->gensim) (2.10)\n",
      "Requirement already satisfied: sklearn in /home/tomasg/anaconda3/lib/python3.8/site-packages (0.0)\n",
      "Requirement already satisfied: scikit-learn in /home/tomasg/anaconda3/lib/python3.8/site-packages (from sklearn) (0.23.1)\n",
      "Requirement already satisfied: threadpoolctl>=2.0.0 in /home/tomasg/anaconda3/lib/python3.8/site-packages (from scikit-learn->sklearn) (2.1.0)\n",
      "Requirement already satisfied: joblib>=0.11 in /home/tomasg/anaconda3/lib/python3.8/site-packages (from scikit-learn->sklearn) (0.16.0)\n",
      "Requirement already satisfied: scipy>=0.19.1 in /home/tomasg/anaconda3/lib/python3.8/site-packages (from scikit-learn->sklearn) (1.5.0)\n",
      "Requirement already satisfied: numpy>=1.13.3 in /home/tomasg/anaconda3/lib/python3.8/site-packages (from scikit-learn->sklearn) (1.18.5)\n"
     ]
    }
   ],
   "source": [
    "!pip install sentence_transformers\n",
    "!pip install gensim\n",
    "!pip install sklearn"
   ]
  },
  {
   "cell_type": "code",
   "execution_count": 2,
   "metadata": {
    "_cell_guid": "b1076dfc-b9ad-4769-8c92-a6c4dae69d19",
    "_uuid": "8f2839f25d086af736a60e9eeb907d3b93b6e0e5"
   },
   "outputs": [],
   "source": [
    "import numpy as np # linear algebra\n",
    "import pandas as pd # data processing, CSV file I/O (e.g. pd.read_csv)\n",
    "from collections import Counter\n",
    "\n",
    "import gensim.downloader as api\n",
    "from sentence_transformers import SentenceTransformer\n",
    "\n",
    "import re\n",
    "from nltk.corpus import stopwords\n",
    "import matplotlib.pyplot as plt\n",
    "\n",
    "from sklearn.cluster import KMeans\n",
    "from sklearn.metrics import silhouette_score"
   ]
  },
  {
   "cell_type": "code",
   "execution_count": 3,
   "metadata": {
    "_cell_guid": "79c7e3d0-c299-4dcb-8224-4455121ee9b0",
    "_uuid": "d629ff2d2480ee46fbb7e2d37f6b5fab8052498a"
   },
   "outputs": [],
   "source": [
    "stoplist = set(stopwords.words('english'))\n",
    "\n",
    "# vec_model = api.load(\"glove-wiki-gigaword-50\")\n",
    "# api.load(\"glove-twitter-50\")\n",
    "# vec_model['word']\n",
    "\n",
    "sbert_model = SentenceTransformer('bert-base-nli-mean-tokens')"
   ]
  },
  {
   "cell_type": "code",
   "execution_count": 7,
   "metadata": {},
   "outputs": [],
   "source": [
    "df = pd.read_csv(\"../../data/narrativeqa_qas.csv\")\n",
    "df.describe()\n",
    "\n",
    "questions = df.question\n",
    "answers = df.answer1\n",
    "\n",
    "#questions.head()"
   ]
  },
  {
   "cell_type": "code",
   "execution_count": null,
   "metadata": {},
   "outputs": [],
   "source": [
    "q_words = set(['who','what','how','where','when','why','which','whom','whose', \"who's\"])\n",
    "other_useful_terms = set([])"
   ]
  },
  {
   "cell_type": "code",
   "execution_count": null,
   "metadata": {},
   "outputs": [],
   "source": [
    "whitelist = q_words.union(stoplist).union(other_useful_terms)\n",
    "\n",
    "q_contents = []\n",
    "for row in questions:\n",
    "    q_contents.append(\" \".join([word for word in row.lower().split(\" \") if word in whitelist]))\n",
    "    #contents.append(\" \".join([word for word in row.lower().split(\" \")]))"
   ]
  },
  {
   "cell_type": "code",
   "execution_count": null,
   "metadata": {},
   "outputs": [],
   "source": [
    "print(Counter(contents).most_common(30))"
   ]
  },
  {
   "cell_type": "code",
   "execution_count": 8,
   "metadata": {},
   "outputs": [],
   "source": [
    "# Convert to sentence embeddings (maybe keep the indexes the same for future reference)\n",
    "sentence_embeddings = []\n",
    "\n",
    "#sentence_data = questions\n",
    "n_samples = 2000 \n",
    "\n",
    "\n",
    "sentence_data = answers.sample(n_samples)\n",
    "#sentence_data = q_contents\n",
    "\n",
    "for row in sentence_data[:n_samples]:\n",
    "    se = sbert_model.encode(row)\n",
    "    sentence_embeddings.append(se)"
   ]
  },
  {
   "cell_type": "code",
   "execution_count": 9,
   "metadata": {},
   "outputs": [],
   "source": [
    "# Cluster sentence embeddings\n",
    "# The silhouette coefficients for each k\n",
    "silhouette_coefficients = []\n",
    "\n",
    "# The Within-Cluster-Sum-of-Squares for each k\n",
    "wcss = []\n",
    "\n",
    "kmeans_kwargs = {\n",
    "    \"init\": \"random\",\n",
    "    \"n_init\": 10,\n",
    "    \"max_iter\": 300,\n",
    "    \"random_state\": 42,\n",
    "}\n",
    "\n",
    "ceil = 15\n",
    "\n",
    "# Silhouette coefficient cannot work with less than 2 clusters\n",
    "for k in range(2, ceil):\n",
    "    kmeans = KMeans(n_clusters=k, **kmeans_kwargs)\n",
    "    kmeans.fit(sentence_embeddings)\n",
    "    score = silhouette_score(sentence_embeddings, kmeans.labels_)\n",
    "    silhouette_coefficients.append(score)\n",
    "    wcss.append(kmeans.inertia_)"
   ]
  },
  {
   "cell_type": "code",
   "execution_count": 10,
   "metadata": {},
   "outputs": [
    {
     "data": {
      "image/png": "[encoded data removed]",
      "text/plain": [
       "<Figure size 432x288 with 1 Axes>"
      ]
     },
     "metadata": {},
     "output_type": "display_data"
    }
   ],
   "source": [
    "plt.style.use(\"fivethirtyeight\")\n",
    "plt.plot(range(2, ceil), silhouette_coefficients)\n",
    "plt.xticks(range(2, ceil))\n",
    "plt.xlabel(\"Number of Clusters\")\n",
    "plt.ylabel(\"Silhouette Coefficient\")\n",
    "plt.show()"
   ]
  },
  {
   "cell_type": "code",
   "execution_count": 11,
   "metadata": {},
   "outputs": [
    {
     "data": {
      "image/png": "[encoded data removed]",
      "text/plain": [
       "<Figure size 432x288 with 1 Axes>"
      ]
     },
     "metadata": {},
     "output_type": "display_data"
    }
   ],
   "source": [
    "plt.plot(range(2, ceil), wcss)\n",
    "plt.xticks(range(2, ceil))\n",
    "plt.xlabel(\"Number of Clusters\")\n",
    "plt.ylabel(\"WCSS\")\n",
    "plt.show()"
   ]
  },
  {
   "cell_type": "code",
   "execution_count": 12,
   "metadata": {},
   "outputs": [
    {
     "data": {
      "text/plain": [
       "KMeans(init='random', n_clusters=10, random_state=42)"
      ]
     },
     "execution_count": 12,
     "metadata": {},
     "output_type": "execute_result"
    }
   ],
   "source": [
    "# Off the basis of this second graph, 8 clusters should be used. \n",
    "n_clusters = 10 \n",
    "final_model = KMeans(n_clusters, **kmeans_kwargs)\n",
    "final_model.fit(sentence_embeddings)"
   ]
  },
  {
   "cell_type": "code",
   "execution_count": 13,
   "metadata": {},
   "outputs": [
    {
     "data": {
      "text/html": [
       "<div>\n",
       "<style scoped>\n",
       "    .dataframe tbody tr th:only-of-type {\n",
       "        vertical-align: middle;\n",
       "    }\n",
       "\n",
       "    .dataframe tbody tr th {\n",
       "        vertical-align: top;\n",
       "    }\n",
       "\n",
       "    .dataframe thead th {\n",
       "        text-align: right;\n",
       "    }\n",
       "</style>\n",
       "<table border=\"1\" class=\"dataframe\">\n",
       "  <thead>\n",
       "    <tr style=\"text-align: right;\">\n",
       "      <th></th>\n",
       "      <th>sentence</th>\n",
       "      <th>label</th>\n",
       "      <th>answer1</th>\n",
       "      <th>answer2</th>\n",
       "    </tr>\n",
       "  </thead>\n",
       "  <tbody>\n",
       "    <tr>\n",
       "      <th>0</th>\n",
       "      <td>He is a high school student in Phoenix.</td>\n",
       "      <td>4</td>\n",
       "      <td>He is a high school student in Phoenix.</td>\n",
       "      <td>A loner and outsider student with a radio stat...</td>\n",
       "    </tr>\n",
       "    <tr>\n",
       "      <th>1</th>\n",
       "      <td>It takes place in Mark's parents basement.</td>\n",
       "      <td>1</td>\n",
       "      <td>It takes place in Mark's parents basement.</td>\n",
       "      <td>Phoenix, Arizona</td>\n",
       "    </tr>\n",
       "    <tr>\n",
       "      <th>2</th>\n",
       "      <td>Mark talks about what goes on at school and in...</td>\n",
       "      <td>4</td>\n",
       "      <td>Mark talks about what goes on at school and in...</td>\n",
       "      <td>Because he has a thing to say about what is ha...</td>\n",
       "    </tr>\n",
       "    <tr>\n",
       "      <th>3</th>\n",
       "      <td>Malcolm.</td>\n",
       "      <td>2</td>\n",
       "      <td>Malcolm.</td>\n",
       "      <td>Malcolm.</td>\n",
       "    </tr>\n",
       "    <tr>\n",
       "      <th>4</th>\n",
       "      <td>She jams her medals and accolades.</td>\n",
       "      <td>1</td>\n",
       "      <td>She jams her medals and accolades.</td>\n",
       "      <td>Her award medals</td>\n",
       "    </tr>\n",
       "    <tr>\n",
       "      <th>...</th>\n",
       "      <td>...</td>\n",
       "      <td>...</td>\n",
       "      <td>...</td>\n",
       "      <td>...</td>\n",
       "    </tr>\n",
       "    <tr>\n",
       "      <th>1995</th>\n",
       "      <td>The house belonged to one of their grandparents</td>\n",
       "      <td>3</td>\n",
       "      <td>The house belonged to one of their grandparents</td>\n",
       "      <td>Junior told them about them.</td>\n",
       "    </tr>\n",
       "    <tr>\n",
       "      <th>1996</th>\n",
       "      <td>Burnham</td>\n",
       "      <td>2</td>\n",
       "      <td>Burnham</td>\n",
       "      <td>Burnham</td>\n",
       "    </tr>\n",
       "    <tr>\n",
       "      <th>1997</th>\n",
       "      <td>2</td>\n",
       "      <td>2</td>\n",
       "      <td>2</td>\n",
       "      <td>twice</td>\n",
       "    </tr>\n",
       "    <tr>\n",
       "      <th>1998</th>\n",
       "      <td>$22M</td>\n",
       "      <td>6</td>\n",
       "      <td>$22M</td>\n",
       "      <td>$22 million</td>\n",
       "    </tr>\n",
       "    <tr>\n",
       "      <th>1999</th>\n",
       "      <td>Because Sarah had a seizure</td>\n",
       "      <td>5</td>\n",
       "      <td>Because Sarah had a seizure</td>\n",
       "      <td>He has no interest in hurting them</td>\n",
       "    </tr>\n",
       "  </tbody>\n",
       "</table>\n",
       "<p>2000 rows × 4 columns</p>\n",
       "</div>"
      ],
      "text/plain": [
       "                                               sentence  label  \\\n",
       "0               He is a high school student in Phoenix.      4   \n",
       "1           It takes place in Mark's parents basement.       1   \n",
       "2     Mark talks about what goes on at school and in...      4   \n",
       "3                                              Malcolm.      2   \n",
       "4                   She jams her medals and accolades.       1   \n",
       "...                                                 ...    ...   \n",
       "1995    The house belonged to one of their grandparents      3   \n",
       "1996                                            Burnham      2   \n",
       "1997                                                  2      2   \n",
       "1998                                               $22M      6   \n",
       "1999                        Because Sarah had a seizure      5   \n",
       "\n",
       "                                                answer1  \\\n",
       "0               He is a high school student in Phoenix.   \n",
       "1           It takes place in Mark's parents basement.    \n",
       "2     Mark talks about what goes on at school and in...   \n",
       "3                                              Malcolm.   \n",
       "4                   She jams her medals and accolades.    \n",
       "...                                                 ...   \n",
       "1995    The house belonged to one of their grandparents   \n",
       "1996                                            Burnham   \n",
       "1997                                                  2   \n",
       "1998                                               $22M   \n",
       "1999                        Because Sarah had a seizure   \n",
       "\n",
       "                                                answer2  \n",
       "0     A loner and outsider student with a radio stat...  \n",
       "1                                      Phoenix, Arizona  \n",
       "2     Because he has a thing to say about what is ha...  \n",
       "3                                              Malcolm.  \n",
       "4                                      Her award medals  \n",
       "...                                                 ...  \n",
       "1995                       Junior told them about them.  \n",
       "1996                                            Burnham  \n",
       "1997                                              twice  \n",
       "1998                                        $22 million  \n",
       "1999                 He has no interest in hurting them  \n",
       "\n",
       "[2000 rows x 4 columns]"
      ]
     },
     "execution_count": 13,
     "metadata": {},
     "output_type": "execute_result"
    }
   ],
   "source": [
    "# labelled_contents = zip(contents[:500], final_model.labels_)\n",
    "rdf = pd.DataFrame()\n",
    "rdf['sentence'] = sentence_data[:n_samples]\n",
    "rdf['label'] = final_model.labels_\n",
    "rdf['answer1'] = df.answer1[:n_samples]\n",
    "rdf['answer2'] = df.answer2[:n_samples]\n",
    "rdf"
   ]
  },
  {
   "cell_type": "code",
   "execution_count": 16,
   "metadata": {},
   "outputs": [
    {
     "data": {
      "text/html": [
       "<div>\n",
       "<style scoped>\n",
       "    .dataframe tbody tr th:only-of-type {\n",
       "        vertical-align: middle;\n",
       "    }\n",
       "\n",
       "    .dataframe tbody tr th {\n",
       "        vertical-align: top;\n",
       "    }\n",
       "\n",
       "    .dataframe thead th {\n",
       "        text-align: right;\n",
       "    }\n",
       "</style>\n",
       "<table border=\"1\" class=\"dataframe\">\n",
       "  <thead>\n",
       "    <tr style=\"text-align: right;\">\n",
       "      <th></th>\n",
       "      <th>sentence</th>\n",
       "      <th>label</th>\n",
       "      <th>answer1</th>\n",
       "      <th>answer2</th>\n",
       "    </tr>\n",
       "  </thead>\n",
       "  <tbody>\n",
       "    <tr>\n",
       "      <th>3</th>\n",
       "      <td>Malcolm.</td>\n",
       "      <td>2</td>\n",
       "      <td>Malcolm.</td>\n",
       "      <td>Malcolm.</td>\n",
       "    </tr>\n",
       "    <tr>\n",
       "      <th>7</th>\n",
       "      <td>Mark and Nora.</td>\n",
       "      <td>2</td>\n",
       "      <td>Mark and Nora.</td>\n",
       "      <td>Mark and Nora.</td>\n",
       "    </tr>\n",
       "    <tr>\n",
       "      <th>42</th>\n",
       "      <td>Percival Keene</td>\n",
       "      <td>2</td>\n",
       "      <td>Percival Keene</td>\n",
       "      <td>Percival</td>\n",
       "    </tr>\n",
       "    <tr>\n",
       "      <th>45</th>\n",
       "      <td>Colonial Delmar</td>\n",
       "      <td>2</td>\n",
       "      <td>Colonial Delmar</td>\n",
       "      <td>Captain Delmar</td>\n",
       "    </tr>\n",
       "    <tr>\n",
       "      <th>46</th>\n",
       "      <td>Capitan</td>\n",
       "      <td>2</td>\n",
       "      <td>Capitan</td>\n",
       "      <td>captain</td>\n",
       "    </tr>\n",
       "    <tr>\n",
       "      <th>...</th>\n",
       "      <td>...</td>\n",
       "      <td>...</td>\n",
       "      <td>...</td>\n",
       "      <td>...</td>\n",
       "    </tr>\n",
       "    <tr>\n",
       "      <th>1986</th>\n",
       "      <td>Bearer Bonds</td>\n",
       "      <td>2</td>\n",
       "      <td>Bearer Bonds</td>\n",
       "      <td>bearer bonds</td>\n",
       "    </tr>\n",
       "    <tr>\n",
       "      <th>1992</th>\n",
       "      <td>Stephen</td>\n",
       "      <td>2</td>\n",
       "      <td>Stephen</td>\n",
       "      <td>Stephen</td>\n",
       "    </tr>\n",
       "    <tr>\n",
       "      <th>1994</th>\n",
       "      <td>2</td>\n",
       "      <td>2</td>\n",
       "      <td>2</td>\n",
       "      <td>Two phones lines</td>\n",
       "    </tr>\n",
       "    <tr>\n",
       "      <th>1996</th>\n",
       "      <td>Burnham</td>\n",
       "      <td>2</td>\n",
       "      <td>Burnham</td>\n",
       "      <td>Burnham</td>\n",
       "    </tr>\n",
       "    <tr>\n",
       "      <th>1997</th>\n",
       "      <td>2</td>\n",
       "      <td>2</td>\n",
       "      <td>2</td>\n",
       "      <td>twice</td>\n",
       "    </tr>\n",
       "  </tbody>\n",
       "</table>\n",
       "<p>470 rows × 4 columns</p>\n",
       "</div>"
      ],
      "text/plain": [
       "             sentence  label          answer1           answer2\n",
       "3            Malcolm.      2         Malcolm.          Malcolm.\n",
       "7      Mark and Nora.      2   Mark and Nora.    Mark and Nora.\n",
       "42     Percival Keene      2   Percival Keene          Percival\n",
       "45    Colonial Delmar      2  Colonial Delmar    Captain Delmar\n",
       "46            Capitan      2          Capitan           captain\n",
       "...               ...    ...              ...               ...\n",
       "1986     Bearer Bonds      2     Bearer Bonds     bearer bonds \n",
       "1992          Stephen      2          Stephen           Stephen\n",
       "1994                2      2                2  Two phones lines\n",
       "1996          Burnham      2          Burnham           Burnham\n",
       "1997                2      2                2             twice\n",
       "\n",
       "[470 rows x 4 columns]"
      ]
     },
     "execution_count": 16,
     "metadata": {},
     "output_type": "execute_result"
    }
   ],
   "source": [
    "rdf.loc[rdf['label'] == 2]\n",
    "\n",
    "#print(contents[1000])"
   ]
  }
 ],
 "metadata": {
  "kernelspec": {
   "display_name": "Python 3",
   "language": "python",
   "name": "python3"
  },
  "language_info": {
   "codemirror_mode": {
    "name": "ipython",
    "version": 3
   },
   "file_extension": ".py",
   "mimetype": "text/x-python",
   "name": "python",
   "nbconvert_exporter": "python",
   "pygments_lexer": "ipython3",
   "version": "3.8.3"
  }
 },
 "nbformat": 4,
 "nbformat_minor": 4
}
